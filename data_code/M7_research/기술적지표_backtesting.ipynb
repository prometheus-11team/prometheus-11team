{
  "cells": [
    {
      "cell_type": "code",
      "execution_count": 26,
      "metadata": {
        "colab": {
          "base_uri": "https://localhost:8080/",
          "height": 1000
        },
        "id": "65-9fzS7pvWG",
        "outputId": "ba6cd9a7-271c-41bb-b072-edea159691a7"
      },
      "outputs": [
        {
          "ename": "ModuleNotFoundError",
          "evalue": "No module named 'pandas'",
          "output_type": "error",
          "traceback": [
            "\u001b[0;31m---------------------------------------------------------------------------\u001b[0m",
            "\u001b[0;31mModuleNotFoundError\u001b[0m                       Traceback (most recent call last)",
            "Cell \u001b[0;32mIn[26], line 1\u001b[0m\n\u001b[0;32m----> 1\u001b[0m \u001b[38;5;28;01mimport\u001b[39;00m\u001b[38;5;250m \u001b[39m\u001b[38;5;21;01mpandas\u001b[39;00m\u001b[38;5;250m \u001b[39m\u001b[38;5;28;01mas\u001b[39;00m\u001b[38;5;250m \u001b[39m\u001b[38;5;21;01mpd\u001b[39;00m\n\u001b[1;32m      2\u001b[0m \u001b[38;5;28;01mimport\u001b[39;00m\u001b[38;5;250m \u001b[39m\u001b[38;5;21;01mnumpy\u001b[39;00m\u001b[38;5;250m \u001b[39m\u001b[38;5;28;01mas\u001b[39;00m\u001b[38;5;250m \u001b[39m\u001b[38;5;21;01mnp\u001b[39;00m\n\u001b[1;32m      3\u001b[0m \u001b[38;5;28;01mimport\u001b[39;00m\u001b[38;5;250m \u001b[39m\u001b[38;5;21;01mmatplotlib\u001b[39;00m\u001b[38;5;21;01m.\u001b[39;00m\u001b[38;5;21;01mpyplot\u001b[39;00m\u001b[38;5;250m \u001b[39m\u001b[38;5;28;01mas\u001b[39;00m\u001b[38;5;250m \u001b[39m\u001b[38;5;21;01mplt\u001b[39;00m\n",
            "\u001b[0;31mModuleNotFoundError\u001b[0m: No module named 'pandas'"
          ]
        }
      ],
      "source": [
        "import pandas as pd\n",
        "import numpy as np\n",
        "import matplotlib.pyplot as plt\n",
        "\n",
        "# CSV 파일 불러오기\n",
        "df = pd.read_csv(\"M7_stock_data_2020_2024.csv\", index_col=\"Date\", parse_dates=True)\n",
        "\n",
        "# 누락값 제거\n",
        "df = df.dropna(subset=[\"SMA_50\", \"SMA_200\", \"Momentum_10\", \"ROC_10\", \"RSI_14\", \"MACD\", \"Stoch_K\"])\n",
        "df = df.sort_index()\n",
        "\n",
        "# 전략 이름들\n",
        "strategies = {\n",
        "    \"SMA 골든크로스\": lambda df: (df[\"SMA_50\"] > df[\"SMA_200\"]).astype(int),\n",
        "    \"모멘텀 + ROC\": lambda df: ((df[\"Momentum_10\"] > 0) & (df[\"ROC_10\"] > 0)).astype(int),\n",
        "    \"RSI+Stoch 과매도\": lambda df: ((df[\"RSI_14\"] < 30) & (df[\"Stoch_K\"] < 20)).astype(int),\n",
        "    \"MACD+ROC+RSI\": lambda df: ((df[\"MACD\"] > 0) & (df[\"ROC_10\"] > 0) & (df[\"RSI_14\"] > 50)).astype(int)\n",
        "}\n",
        "\n",
        "# 초기 투자금\n",
        "initial_cash = 10000\n",
        "\n",
        "# 전략별 평균 수익률 저장 딕셔너리\n",
        "strategy_avg_returns = {}\n",
        "\n",
        "# Ticker 리스트 추출\n",
        "tickers = df[\"Ticker\"].unique()\n",
        "\n",
        "# 각 전략에 대해 반복\n",
        "for strategy_name, signal_func in strategies.items():\n",
        "    all_returns = []\n",
        "\n",
        "    for ticker in tickers:\n",
        "        df_ticker = df[df[\"Ticker\"] == ticker].copy()\n",
        "        df_ticker = df_ticker.sort_index()\n",
        "\n",
        "        # 매매 신호 생성\n",
        "        signal = signal_func(df_ticker)\n",
        "        position = signal.diff().fillna(0)\n",
        "\n",
        "        # 누적 수익률 계산\n",
        "        daily_return = df_ticker[\"Close\"].pct_change().fillna(0)\n",
        "        strategy_return = (1 + daily_return * position.shift(1)).cumprod() * initial_cash\n",
        "\n",
        "        all_returns.append(strategy_return)\n",
        "\n",
        "    # 평균 누적 수익률 계산 (DataFrame 평균)\n",
        "    avg_return = pd.concat(all_returns, axis=1).mean(axis=1)\n",
        "    strategy_avg_returns[strategy_name] = avg_return\n",
        "\n",
        "# 📊 시각화\n",
        "plt.figure(figsize=(12, 6))\n",
        "for name, avg_ret in strategy_avg_returns.items():\n",
        "    plt.plot(avg_ret, label=name)\n",
        "plt.title(\"📈 전략별 기업 평균 누적 수익률 비교\")\n",
        "plt.xlabel(\"날짜\")\n",
        "plt.ylabel(\"포트폴리오 가치 ($)\")\n",
        "plt.legend()\n",
        "plt.grid(True)\n",
        "plt.tight_layout()\n",
        "plt.show()\n"
      ]
    }
  ],
  "metadata": {
    "colab": {
      "provenance": []
    },
    "kernelspec": {
      "display_name": "Python 3",
      "name": "python3"
    },
    "language_info": {
      "codemirror_mode": {
        "name": "ipython",
        "version": 3
      },
      "file_extension": ".py",
      "mimetype": "text/x-python",
      "name": "python",
      "nbconvert_exporter": "python",
      "pygments_lexer": "ipython3",
      "version": "3.13.1"
    }
  },
  "nbformat": 4,
  "nbformat_minor": 0
}
